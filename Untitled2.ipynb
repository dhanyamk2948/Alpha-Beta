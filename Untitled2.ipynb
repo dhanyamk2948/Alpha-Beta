{
  "nbformat": 4,
  "nbformat_minor": 0,
  "metadata": {
    "colab": {
      "name": "Untitled2.ipynb",
      "provenance": [],
      "authorship_tag": "ABX9TyMtTVTFM66C1GQFitV2/BhM",
      "include_colab_link": true
    },
    "kernelspec": {
      "name": "python3",
      "display_name": "Python 3"
    },
    "language_info": {
      "name": "python"
    }
  },
  "cells": [
    {
      "cell_type": "markdown",
      "metadata": {
        "id": "view-in-github",
        "colab_type": "text"
      },
      "source": [
        "<a href=\"https://colab.research.google.com/github/dhanyamk2948/Alpha-Beta/blob/main/Untitled2.ipynb\" target=\"_parent\"><img src=\"https://colab.research.google.com/assets/colab-badge.svg\" alt=\"Open In Colab\"/></a>"
      ]
    },
    {
      "cell_type": "markdown",
      "metadata": {
        "id": "CRm6sRFu11d7"
      },
      "source": [
        "# Monte Carlo-Coin toss\n"
      ]
    },
    {
      "cell_type": "markdown",
      "metadata": {
        "id": "j8cRFuN72OEQ"
      },
      "source": [
        "This is an attemt to prove that probability of head or tail showing up on an unbiased coin is 0.5"
      ]
    },
    {
      "cell_type": "code",
      "metadata": {
        "id": "u-5N9JIE1jVI"
      },
      "source": [
        "import random\n",
        "import numpy as np"
      ],
      "execution_count": null,
      "outputs": []
    },
    {
      "cell_type": "code",
      "metadata": {
        "id": "ZDtxj3Xl21we"
      },
      "source": [
        "def coin_toss():\n",
        "  return random.randint(0,1)"
      ],
      "execution_count": null,
      "outputs": []
    },
    {
      "cell_type": "code",
      "metadata": {
        "colab": {
          "base_uri": "https://localhost:8080/"
        },
        "id": "6-GM-GdM3EZ5",
        "outputId": "f005f271-2d44-4bb6-91fc-8c709895b885"
      },
      "source": [
        "coin_toss()"
      ],
      "execution_count": null,
      "outputs": [
        {
          "output_type": "execute_result",
          "data": {
            "text/plain": [
              "0"
            ]
          },
          "metadata": {},
          "execution_count": 8
        }
      ]
    },
    {
      "cell_type": "code",
      "metadata": {
        "id": "Bu1CjPRD3GOF"
      },
      "source": [
        "def probability(n):\n",
        "  results=0\n",
        "  for i in range(n):\n",
        "    flip_result=coin_toss()\n",
        "    results+=flip_result\n",
        "\n",
        "    prob=results/(i+1)\n",
        "  return results/n\n",
        "  \n",
        "\n"
      ],
      "execution_count": null,
      "outputs": []
    },
    {
      "cell_type": "code",
      "metadata": {
        "id": "Cu5c34QT5-1z"
      },
      "source": [
        "pred=probability(5000)\n"
      ],
      "execution_count": null,
      "outputs": []
    },
    {
      "cell_type": "code",
      "metadata": {
        "colab": {
          "base_uri": "https://localhost:8080/"
        },
        "id": "8uyIjJez6GEU",
        "outputId": "1aeacb5f-d540-4a7f-abe7-31f75a32c2bb"
      },
      "source": [
        "pred"
      ],
      "execution_count": null,
      "outputs": [
        {
          "output_type": "execute_result",
          "data": {
            "text/plain": [
              "0.4944"
            ]
          },
          "metadata": {},
          "execution_count": 15
        }
      ]
    },
    {
      "cell_type": "code",
      "metadata": {
        "id": "a3smAcBc6LEs"
      },
      "source": [
        ""
      ],
      "execution_count": null,
      "outputs": []
    }
  ]
}